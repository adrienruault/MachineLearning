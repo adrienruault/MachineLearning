{
 "cells": [
  {
   "cell_type": "code",
   "execution_count": 2,
   "metadata": {
    "collapsed": true
   },
   "outputs": [],
   "source": [
    "%matplotlib inline\n",
    "import numpy as np\n",
    "import matplotlib.pyplot as plt\n",
    "%load_ext autoreload\n",
    "%autoreload 2"
   ]
  },
  {
   "cell_type": "markdown",
   "metadata": {},
   "source": [
    "Data Generation\n",
    "==="
   ]
  },
  {
   "cell_type": "code",
   "execution_count": 4,
   "metadata": {
    "collapsed": true
   },
   "outputs": [],
   "source": [
    "num_samples, num_features = 10, 5"
   ]
  },
  {
   "cell_type": "code",
   "execution_count": 5,
   "metadata": {
    "collapsed": true
   },
   "outputs": [],
   "source": [
    "np.random.seed(10)\n",
    "data = np.random.rand(num_samples, num_features)"
   ]
  },
  {
   "cell_type": "code",
   "execution_count": 18,
   "metadata": {},
   "outputs": [
    {
     "name": "stdout",
     "output_type": "stream",
     "text": [
      "10\n",
      "[ 0.56787186  0.44047807  0.53966965  0.52209063  0.43903307]\n",
      "[ 0.18880201  0.31226926  0.29810476  0.28105224  0.24648668]\n"
     ]
    },
    {
     "data": {
      "text/plain": [
       "array([[ 0.20344878, -0.41972612,  0.09397858,  0.22671326,  0.05947394],\n",
       "       [-0.34307522, -0.24241521,  0.22086106, -0.35297979, -0.35069326],\n",
       "       [ 0.11748795,  0.51291527, -0.53572138, -0.00989836,  0.37358789],\n",
       "       [ 0.0446542 ,  0.28127725, -0.24779358,  0.3956835 ,  0.27554271],\n",
       "       [-0.0253275 , -0.29830802, -0.16632889,  0.15204299,  0.0028001 ],\n",
       "       [-0.13385787,  0.17728891, -0.02653141,  0.12830656,  0.16200588],\n",
       "       [ 0.23735133,  0.08116908,  0.36897923, -0.20285454, -0.34857372],\n",
       "       [-0.26717181, -0.32649371,  0.28901168, -0.47519431,  0.18725407],\n",
       "       [-0.02028571,  0.37880892, -0.34072211,  0.33475968, -0.08738043],\n",
       "       [ 0.18677583, -0.14451637,  0.34426683, -0.19657899, -0.27401718]])"
      ]
     },
     "execution_count": 18,
     "metadata": {},
     "output_type": "execute_result"
    }
   ],
   "source": [
    "print(data.shape[0])\n",
    "mean = np.mean(data,0)\n",
    "print(mean)\n",
    "std_dev = np.std(data,0)\n",
    "print(std_dev)\n",
    "data-mean\n"
   ]
  },
  {
   "cell_type": "markdown",
   "metadata": {},
   "source": [
    "Solution\n",
    "==="
   ]
  },
  {
   "cell_type": "code",
   "execution_count": null,
   "metadata": {
    "collapsed": true,
    "scrolled": false
   },
   "outputs": [],
   "source": [
    "print(data)"
   ]
  },
  {
   "cell_type": "code",
   "execution_count": 16,
   "metadata": {},
   "outputs": [],
   "source": [
    "def standardize(x):\n",
    "    mean = np.mean(data,0)\n",
    "    std_dev = np.std(data,0)\n",
    "    x = (x-mean)/std_dev\n",
    "    return x\n",
    "\n",
    "std_data = standardize(data)"
   ]
  },
  {
   "cell_type": "code",
   "execution_count": 19,
   "metadata": {},
   "outputs": [
    {
     "name": "stdout",
     "output_type": "stream",
     "text": [
      "[[ 1.0775774  -1.34411605  0.31525355  0.80665878  0.24128662]\n",
      " [-1.81711634 -0.77630186  0.74088404 -1.25592235 -1.42276759]\n",
      " [ 0.62228127  1.64254169 -1.797091   -0.03521894  1.51565143]\n",
      " [ 0.23651339  0.90075228 -0.83122987  1.40786459  1.11788073]\n",
      " [-0.13414844 -0.95529104 -0.55795449  0.54097769  0.01136005]\n",
      " [-0.70898541  0.56774371 -0.08900028  0.45652209  0.65726018]\n",
      " [ 1.2571441   0.25993298  1.23775021 -0.72176808 -1.4141686 ]\n",
      " [-1.41508984 -1.04555188  0.96949701 -1.69076861  0.75969247]\n",
      " [-0.10744434  1.21308427 -1.14296098  1.19109415 -0.35450368]\n",
      " [ 0.98926822 -0.46279408  1.15485183 -0.69943932 -1.11169162]] \n",
      "\n",
      " [ -1.66533454e-16   4.99600361e-17  -2.22044605e-17   1.11022302e-17\n",
      "   3.33066907e-16] \n",
      "\n",
      " [ 1.  1.  1.  1.  1.]\n"
     ]
    }
   ],
   "source": [
    "print(std_data, \"\\n\\n\", np.mean(std_data, axis=0), \"\\n\\n\", np.std(std_data, axis=0))"
   ]
  }
 ],
 "metadata": {
  "kernelspec": {
   "display_name": "Python 3",
   "language": "python",
   "name": "python3"
  },
  "language_info": {
   "codemirror_mode": {
    "name": "ipython",
    "version": 3
   },
   "file_extension": ".py",
   "mimetype": "text/x-python",
   "name": "python",
   "nbconvert_exporter": "python",
   "pygments_lexer": "ipython3",
   "version": "3.6.1"
  }
 },
 "nbformat": 4,
 "nbformat_minor": 1
}
