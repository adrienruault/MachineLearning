{
 "cells": [
  {
   "cell_type": "code",
   "execution_count": 266,
   "metadata": {},
   "outputs": [
    {
     "name": "stdout",
     "output_type": "stream",
     "text": [
      "The autoreload extension is already loaded. To reload it, use:\n",
      "  %reload_ext autoreload\n"
     ]
    }
   ],
   "source": [
    "# Useful starting lines\n",
    "%matplotlib inline\n",
    "import numpy as np\n",
    "import matplotlib.pyplot as plt\n",
    "%load_ext autoreload\n",
    "%autoreload 2"
   ]
  },
  {
   "cell_type": "markdown",
   "metadata": {},
   "source": [
    "# Load the data"
   ]
  },
  {
   "cell_type": "code",
   "execution_count": 267,
   "metadata": {
    "collapsed": true
   },
   "outputs": [],
   "source": [
    "import datetime\n",
    "from helpers import *\n",
    "\n",
    "height, weight, gender = load_data(sub_sample=False, add_outlier=False)\n",
    "x, mean_x, std_x = standardize(height)\n",
    "y, tx = build_model_data(x, weight)"
   ]
  },
  {
   "cell_type": "code",
   "execution_count": 268,
   "metadata": {
    "scrolled": false
   },
   "outputs": [
    {
     "data": {
      "text/plain": [
       "((10000,), (10000, 2))"
      ]
     },
     "execution_count": 268,
     "metadata": {},
     "output_type": "execute_result"
    }
   ],
   "source": [
    "y.shape, tx.shape"
   ]
  },
  {
   "cell_type": "code",
   "execution_count": 269,
   "metadata": {},
   "outputs": [
    {
     "data": {
      "text/plain": [
       "array([[ 1.        ,  1.94406149],\n",
       "       [ 1.        ,  0.62753668],\n",
       "       [ 1.        ,  2.01244346],\n",
       "       [ 1.        ,  1.39406046],\n",
       "       [ 1.        ,  0.9134207 ]])"
      ]
     },
     "execution_count": 269,
     "metadata": {},
     "output_type": "execute_result"
    }
   ],
   "source": [
    "tx[0:5,:]"
   ]
  },
  {
   "cell_type": "markdown",
   "metadata": {},
   "source": [
    "# 1 Computing the Cost Function"
   ]
  },
  {
   "cell_type": "markdown",
   "metadata": {},
   "source": [
    "Fill in the `compute_loss` function below:\n",
    "<a id='compute_loss'></a>\n"
   ]
  },
  {
   "cell_type": "code",
   "execution_count": 270,
   "metadata": {},
   "outputs": [
    {
     "data": {
      "text/plain": [
       "array([ 4.88812299,  2.25507336,  5.02488691, ..., -0.29937583,\n",
       "        2.38624937, -1.29941662])"
      ]
     },
     "execution_count": 270,
     "metadata": {},
     "output_type": "execute_result"
    }
   ],
   "source": [
    "tx.dot([1, 2])"
   ]
  },
  {
   "cell_type": "code",
   "execution_count": 271,
   "metadata": {
    "collapsed": true
   },
   "outputs": [],
   "source": [
    "def compute_loss(y, tx, w, cost = \"mse\"):\n",
    "    \"\"\"Calculate the loss.\n",
    "\n",
    "    You can calculate the loss using mse or mae.\n",
    "    \"\"\"\n",
    "    N = tx.shape[0]\n",
    "    error_vec = y - tx.dot(w)\n",
    "    if (cost == \"mse\"):\n",
    "        loss = (1 / (2*N)) * np.linalg.norm(error_vec)**2\n",
    "    elif (cost == \"mae\"):\n",
    "        loss = (1 / N) * np.sum(np.abs(error_vec))\n",
    "    else:\n",
    "        print(\"Invalid cost argument in compute_loss\")\n",
    "        raise NotImplementedError\n",
    "    return loss\n",
    "    \n"
   ]
  },
  {
   "cell_type": "code",
   "execution_count": 272,
   "metadata": {},
   "outputs": [
    {
     "data": {
      "text/plain": [
       "2694.4833658870839"
      ]
     },
     "execution_count": 272,
     "metadata": {},
     "output_type": "execute_result"
    }
   ],
   "source": [
    "w = np.array([1, 2])\n",
    "compute_loss(y, tx, w)"
   ]
  },
  {
   "cell_type": "markdown",
   "metadata": {},
   "source": [
    "# 2 Grid Search\n",
    "\n",
    "Fill in the function `grid_search()` below:"
   ]
  },
  {
   "cell_type": "code",
   "execution_count": 273,
   "metadata": {
    "collapsed": true
   },
   "outputs": [],
   "source": [
    "def grid_search(y, tx, w0, w1):\n",
    "    \"\"\"Algorithm for grid search.\"\"\"\n",
    "    losses = np.zeros((len(w0), len(w1)))\n",
    "    for i in range(len(w0)):\n",
    "        for j in range(len(w1)):\n",
    "            losses[i, j] = compute_loss(y, tx, np.array([w0[i], w1[j]]))\n",
    "    \n",
    "    argmin_index = np.argmin(losses);\n",
    "    best_i = argmin_index % len(w0)\n",
    "    best_j = argmin_index // len(w1)\n",
    "    print(best_i, best_j)\n",
    "    \n",
    "    #raise NotImplementedError\n",
    "    return losses, w0[best_i], w1[best_j]"
   ]
  },
  {
   "cell_type": "code",
   "execution_count": 274,
   "metadata": {},
   "outputs": [
    {
     "name": "stdout",
     "output_type": "stream",
     "text": [
      "1 1\n"
     ]
    },
    {
     "data": {
      "text/plain": [
       "(array([[ 2683.50365345,  2673.52394102],\n",
       "        [ 2611.70973145,  2601.73001902]]), 2, 4)"
      ]
     },
     "execution_count": 274,
     "metadata": {},
     "output_type": "execute_result"
    }
   ],
   "source": [
    "grid_search(y, tx, [1, 2], [3, 4])"
   ]
  },
  {
   "cell_type": "markdown",
   "metadata": {},
   "source": [
    "Let us play with the grid search demo now!"
   ]
  },
  {
   "cell_type": "code",
   "execution_count": 275,
   "metadata": {},
   "outputs": [
    {
     "name": "stdout",
     "output_type": "stream",
     "text": [
      "54 57\n",
      "Grid Search: loss*=15.55870336860953, w0*=72.72727272727272, w1*=13.636363636363626, execution time=0.400 seconds\n"
     ]
    },
    {
     "data": {
      "image/png": "[encoded data removed]",
      "text/plain": [
       "<matplotlib.figure.Figure at 0x7faea0af2cf8>"
      ]
     },
     "metadata": {},
     "output_type": "display_data"
    }
   ],
   "source": [
    "from grid_search import generate_w, get_best_parameters\n",
    "from plots import grid_visualization\n",
    "\n",
    "# Generate the grid of parameters to be swept\n",
    "grid_w0, grid_w1 = generate_w(num_intervals=100)\n",
    "\n",
    "# Start the grid search\n",
    "start_time = datetime.datetime.now()\n",
    "grid_losses = grid_search(y, tx, grid_w0, grid_w1)[0]\n",
    "\n",
    "# Select the best combinaison\n",
    "loss_star, w0_star, w1_star = get_best_parameters(grid_w0, grid_w1, grid_losses)\n",
    "end_time = datetime.datetime.now()\n",
    "execution_time = (end_time - start_time).total_seconds()\n",
    "\n",
    "# Print the results\n",
    "print(\"Grid Search: loss*={l}, w0*={w0}, w1*={w1}, execution time={t:.3f} seconds\".format(\n",
    "      l=loss_star, w0=w0_star, w1=w1_star, t=execution_time))\n",
    "\n",
    "# Plot the results\n",
    "fig = grid_visualization(grid_losses, grid_w0, grid_w1, mean_x, std_x, height, weight)\n",
    "fig.set_size_inches(10.0,6.0)\n",
    "fig.savefig(\"grid_plot\")  # Optional saving"
   ]
  },
  {
   "cell_type": "markdown",
   "metadata": {},
   "source": [
    "# 3 Gradient Descent"
   ]
  },
  {
   "cell_type": "markdown",
   "metadata": {},
   "source": [
    "Again, please fill in the functions `compute_gradient` below:"
   ]
  },
  {
   "cell_type": "code",
   "execution_count": 335,
   "metadata": {
    "collapsed": true
   },
   "outputs": [],
   "source": [
    "def compute_gradient(y, tx, w, cost = \"mse\"):\n",
    "    \"\"\"Compute the gradient.\"\"\"\n",
    "    N = tx.shape[0];\n",
    "    error_vec = y - tx.dot(w)\n",
    "    if (cost == \"mse\"):\n",
    "        grad = -(1/N) * np.transpose(tx).dot(error_vec)\n",
    "    elif (cost == \"mae\"):\n",
    "        sub_grad = [0 if error_vec[i] == 0 else error_vec[i] / np.abs(error_vec[i]) for i in range(N)]\n",
    "        grad = -(1 / N) * np.transpose(tx).dot(sub_grad)\n",
    "    else:\n",
    "        print(\"Invalid argument in compute_gradient function.\")\n",
    "        raise NotImplementedError\n",
    "    return grad\n",
    "    \n",
    "    \n"
   ]
  },
  {
   "cell_type": "code",
   "execution_count": 336,
   "metadata": {},
   "outputs": [
    {
     "data": {
      "text/plain": [
       "array([-0.02064873, -0.11634907])"
      ]
     },
     "execution_count": 336,
     "metadata": {},
     "output_type": "execute_result"
    }
   ],
   "source": [
    "compute_gradient(y, tx, np.array([73.2732732732, 13.363363363363362]))"
   ]
  },
  {
   "cell_type": "markdown",
   "metadata": {},
   "source": [
    "Please fill in the functions `gradient_descent` below:"
   ]
  },
  {
   "cell_type": "code",
   "execution_count": 278,
   "metadata": {
    "collapsed": true
   },
   "outputs": [],
   "source": [
    "# Be careful, gamma of 2 for MSE doesn't converge\n",
    "def gradient_descent(y, tx, initial_w, max_iters, gamma, cost =\"mse\", tol = 1e-6, thresh_test_conv = 10):\n",
    "    \"\"\"Gradient descent algorithm.\"\"\"\n",
    "    # Define parameters to store w and loss\n",
    "    ws = [initial_w]\n",
    "    initial_loss = compute_loss(y, tx, initial_w, cost)\n",
    "    losses = [initial_loss]\n",
    "    w = initial_w\n",
    "    test_conv = 0\n",
    "    dist_succ_w = tol + 1\n",
    "    n_iter = 0;\n",
    "    while (n_iter < max_iters and dist_succ_w > tol):\n",
    "        grad = compute_gradient(y, tx, w, cost)\n",
    "        loss = compute_loss(y, tx, w, cost)\n",
    "        \n",
    "        # Test of convergence, test_conv counts the number of consecutive iterations for which loss has increased\n",
    "        if (loss > losses[n_iter]):\n",
    "            test_conv += 1\n",
    "            if (test_conv == thresh_test_conv):\n",
    "                print(\"Stopped computing because 10 consecutive iterations have involved an increase in loss.\")\n",
    "                return losses, ws\n",
    "        else:\n",
    "            test_conv = 0\n",
    "        \n",
    "        # updating w\n",
    "        w = w - gamma * grad\n",
    "        \n",
    "        # store w and loss\n",
    "        ws.append(w)\n",
    "        losses.append(loss)\n",
    "        print(\"Gradient Descent({bi}/{ti}): loss={l}, w0={w0}, w1={w1}\".format(\n",
    "              bi=n_iter, ti=max_iters - 1, l=loss, w0=w[0], w1=w[1]))\n",
    "        \n",
    "        # update distance between two successive w\n",
    "        dist_succ_w = np.linalg.norm(ws[len(ws)-1] - ws[len(ws)-2])\n",
    "        \n",
    "        # updat niter: number of iterations\n",
    "        n_iter += 1\n",
    "\n",
    "    return losses, ws"
   ]
  },
  {
   "cell_type": "markdown",
   "metadata": {},
   "source": [
    "Test your gradient descent function through gradient descent demo shown below:"
   ]
  },
  {
   "cell_type": "code",
   "execution_count": 279,
   "metadata": {},
   "outputs": [
    {
     "name": "stdout",
     "output_type": "stream",
     "text": [
      "Gradient Descent(0/49): loss=2792.2367127591665, w0=51.30574540147352, w1=9.435798704492393\n",
      "Gradient Descent(1/49): loss=265.302462108962, w0=66.69746902191565, w1=12.266538315840034\n",
      "Gradient Descent(2/49): loss=37.878379550441615, w0=71.31498610804833, w1=13.115760199244338\n",
      "Gradient Descent(3/49): loss=17.4102121201745, w0=72.70024123388814, w1=13.370526764265632\n",
      "Gradient Descent(4/49): loss=15.568077051450459, w0=73.11581777164008, w1=13.446956733772023\n",
      "Gradient Descent(5/49): loss=15.402284895265295, w0=73.24049073296567, w1=13.469885724623941\n",
      "Gradient Descent(6/49): loss=15.387363601208634, w0=73.27789262136332, w1=13.476764421879517\n",
      "Gradient Descent(7/49): loss=15.386020684743531, w0=73.28911318788263, w1=13.478828031056189\n",
      "Gradient Descent(8/49): loss=15.385899822261674, w0=73.29247935783842, w1=13.47944711380919\n",
      "Gradient Descent(9/49): loss=15.385888944638307, w0=73.29348920882516, w1=13.47963283863509\n",
      "Gradient Descent(10/49): loss=15.385887965652199, w0=73.29379216412119, w1=13.479688556082861\n",
      "Gradient Descent(11/49): loss=15.385887877543452, w0=73.29388305071, w1=13.479705271317192\n",
      "Gradient Descent(12/49): loss=15.385887869613665, w0=73.29391031668663, w1=13.479710285887492\n",
      "Gradient Descent(13/49): loss=15.385887868899987, w0=73.29391849647962, w1=13.479711790258582\n",
      "Gradient Descent(14/49): loss=15.385887868835754, w0=73.29392095041752, w1=13.479712241569908\n",
      "Gradient Descent(15/49): loss=15.385887868829977, w0=73.29392168659889, w1=13.479712376963306\n",
      "Gradient Descent: execution time=0.017 seconds\n"
     ]
    }
   ],
   "source": [
    "# from gradient_descent import *\n",
    "from plots import gradient_descent_visualization\n",
    "\n",
    "# Define the parameters of the algorithm.\n",
    "max_iters = 50\n",
    "gamma = 0.7\n",
    "\n",
    "# Initialization\n",
    "w_initial = np.array([0, 0])\n",
    "\n",
    "# Start gradient descent.\n",
    "start_time = datetime.datetime.now()\n",
    "gradient_losses, gradient_ws = gradient_descent(y, tx, w_initial, max_iters, gamma)\n",
    "end_time = datetime.datetime.now()\n",
    "\n",
    "# Print result\n",
    "exection_time = (end_time - start_time).total_seconds()\n",
    "print(\"Gradient Descent: execution time={t:.3f} seconds\".format(t=exection_time))"
   ]
  },
  {
   "cell_type": "code",
   "execution_count": 280,
   "metadata": {},
   "outputs": [
    {
     "data": {
      "application/vnd.jupyter.widget-view+json": {
       "model_id": "e99ce3d3722a49ea993102983b0de4af",
       "version_major": 2,
       "version_minor": 0
      },
      "text/plain": [
       "A Jupyter Widget"
      ]
     },
     "metadata": {},
     "output_type": "display_data"
    },
    {
     "data": {
      "text/plain": [
       "<function __main__.plot_figure>"
      ]
     },
     "execution_count": 280,
     "metadata": {},
     "output_type": "execute_result"
    }
   ],
   "source": [
    "# Time Visualization\n",
    "from ipywidgets import IntSlider, interact\n",
    "\n",
    "def plot_figure(n_iter):\n",
    "    fig = gradient_descent_visualization(\n",
    "        gradient_losses, gradient_ws, grid_losses, grid_w0, grid_w1, mean_x, std_x, height, weight, n_iter)\n",
    "    fig.set_size_inches(10.0, 6.0)\n",
    "\n",
    "interact(plot_figure, n_iter=IntSlider(min=1, max=len(gradient_ws)))"
   ]
  },
  {
   "cell_type": "markdown",
   "metadata": {},
   "source": [
    "# 4 Stochastic gradient descent"
   ]
  },
  {
   "cell_type": "code",
   "execution_count": 281,
   "metadata": {},
   "outputs": [
    {
     "name": "stdout",
     "output_type": "stream",
     "text": [
      "(array([ 83.74867648,  89.33142852,  77.81408506,  93.29301816,  65.66720385]), array([[ 1.        ,  0.35366296],\n",
      "       [ 1.        ,  1.14241028],\n",
      "       [ 1.        ,  0.84655726],\n",
      "       [ 1.        ,  1.49494201],\n",
      "       [ 1.        , -0.98265094]])) 0\n"
     ]
    },
    {
     "data": {
      "text/plain": [
       "[None]"
      ]
     },
     "execution_count": 281,
     "metadata": {},
     "output_type": "execute_result"
    }
   ],
   "source": [
    "batched = batch_iter(y, tx, 5)\n",
    "count = 0\n",
    "[print(i, count) for i in batched]"
   ]
  },
  {
   "cell_type": "code",
   "execution_count": 338,
   "metadata": {
    "collapsed": true
   },
   "outputs": [],
   "source": [
    "def compute_stoch_gradient(y, tx, w, batch_size=1, cost =\"mse\"):\n",
    "    \"\"\"Compute a stochastic gradient from just few examples n and their corresponding y_n labels.\"\"\"\n",
    "    batched = [x for x in batch_iter(y, tx, batch_size)][0]\n",
    "    y_b = batched[0]\n",
    "    tx_b = batched[1]\n",
    "    error_vec = y_b - tx_b.dot(w)\n",
    "\n",
    "    if (cost == \"mse\"):\n",
    "        stoch_grad = (-2 / batch_size) * np.transpose(tx_b).dot(error_vec)\n",
    "    elif (cost == \"mae\"):\n",
    "        sub_grad_abs = [0 if error_vec[i] == 0 else error_vec[i] / np.abs(error_vec[i]) for i in range(batch_size)]\n",
    "        stoch_grad = -(1 / batch_size) * np.transpose(tx_b).dot(sub_grad_abs)\n",
    "    else:\n",
    "        print(\"Invalid cost argument in compute_stoch_gradient\")\n",
    "        raise NotImplementedError\n",
    "    \n",
    "    return stoch_grad\n",
    "    \n",
    "\n",
    "\n",
    "def stochastic_gradient_descent(\n",
    "        y, tx, initial_w, batch_size, max_iters, gamma, cost = \"mse\", tol = 1e-6, thresh_test_conv = 100):\n",
    "    \"\"\"Stochastic gradient descent algorithm.\"\"\"\n",
    "    # Define parameters to store w and loss\n",
    "    ws = [initial_w]\n",
    "    initial_loss = compute_loss(y, tx, initial_w, cost)\n",
    "    losses = [initial_loss]\n",
    "    w = initial_w\n",
    "    test_conv = 0\n",
    "    dist_succ_w = tol + 1\n",
    "    n_iter = 0\n",
    "    while (n_iter < max_iters and dist_succ_w > tol):\n",
    "        stoch_grad = compute_stoch_gradient(y, tx, w, batch_size, cost)\n",
    "        loss = compute_loss(y, tx, w, cost)\n",
    "        \n",
    "        # Test of convergence, test_conv counts the number of consecutive iterations for which loss has increased\n",
    "        if (loss > losses[n_iter]):\n",
    "            test_conv += 1\n",
    "            if (test_conv == thresh_test_conv):\n",
    "                print(\"Stopped computing because 10 consecutive iterations have involved an increase in loss.\")\n",
    "                return losses, ws\n",
    "        else:\n",
    "            test_conv = 0\n",
    "        \n",
    "        # updating w\n",
    "        w = w - gamma * stoch_grad\n",
    "        \n",
    "        # store w and loss\n",
    "        ws.append(w)\n",
    "        losses.append(loss)\n",
    "        print(\"Gradient Descent({bi}/{ti}): loss={l}, w0={w0}, w1={w1}\".format(\n",
    "              bi=n_iter, ti=max_iters - 1, l=loss, w0=w[0], w1=w[1]))\n",
    "        \n",
    "        # computing distance between new w and former one\n",
    "        dist_succ_w = np.linalg.norm(ws[len(ws)-1] - ws[len(ws)-2])\n",
    "        \n",
    "        # updating the number of iteration\n",
    "        n_iter += 1\n",
    "\n",
    "    return losses, ws"
   ]
  },
  {
   "cell_type": "code",
   "execution_count": 339,
   "metadata": {},
   "outputs": [
    {
     "name": "stdout",
     "output_type": "stream",
     "text": [
      "Gradient Descent(0/49): loss=2792.2367127591665, w0=10.969552454507351, w1=-8.12896363005467\n",
      "Gradient Descent(1/49): loss=2191.0168482635945, w0=21.36457466532592, w1=-12.632962934819897\n",
      "Gradient Descent(2/49): loss=1704.6503527652737, w0=30.76059797527641, w1=-12.141148392477932\n",
      "Gradient Descent(3/49): loss=1248.1419690246496, w0=39.03384238257483, w1=-9.514928781095367\n",
      "Gradient Descent(4/49): loss=866.6391779653322, w0=43.795972161750356, w1=-11.196197085536518\n",
      "Gradient Descent(5/49): loss=754.9006655934555, w0=40.35961513041557, w1=-4.598301477175336\n",
      "Gradient Descent(6/49): loss=721.1274659323443, w0=45.18849039274075, w1=-5.482762293178483\n",
      "Gradient Descent(7/49): loss=590.1312547513558, w0=55.58752924103995, w1=6.653980333497248\n",
      "Gradient Descent(8/49): loss=195.4393695340488, w0=58.386578248418296, w1=5.1721744052151415\n",
      "Gradient Descent(9/49): loss=161.00793082219295, w0=62.2870373068123, w1=6.356154925995716\n",
      "Gradient Descent(10/49): loss=101.3341790085334, w0=67.7046060627738, w1=16.442239968032972\n",
      "Gradient Descent(11/49): loss=35.394398895683004, w0=66.805781835363, w1=15.606644487568119\n",
      "Gradient Descent(12/49): loss=38.69578925862017, w0=68.08353473078407, w1=15.751187877748613\n",
      "Gradient Descent(13/49): loss=31.539755970931882, w0=68.91832540255325, w1=14.962368079344682\n",
      "Gradient Descent(14/49): loss=26.05794454970446, w0=69.67137559724249, w1=14.795870209498103\n",
      "Gradient Descent(15/49): loss=22.813444740221566, w0=72.87305661257638, w1=12.794449892535525\n",
      "Gradient Descent(16/49): loss=15.709244082925956, w0=71.6187787552231, w1=11.628405546055621\n",
      "Gradient Descent(17/49): loss=18.502608916122913, w0=74.2926383211553, w1=13.427015378256044\n",
      "Gradient Descent(18/49): loss=15.885993501692054, w0=72.70769540188934, w1=14.613085336897276\n",
      "Gradient Descent(19/49): loss=16.199985749619657, w0=71.13907230612891, w1=14.347305162417841\n",
      "Gradient Descent(20/49): loss=18.0839350452976, w0=74.30254122431644, w1=12.086062074421587\n",
      "Gradient Descent(21/49): loss=16.865674900291324, w0=74.34146495390706, w1=12.12986473110524\n",
      "Gradient Descent(22/49): loss=16.845605398604487, w0=73.2982186500893, w1=13.67388879771956\n",
      "Gradient Descent(23/49): loss=15.404749329342977, w0=75.06782126736611, w1=12.116291559171836\n",
      "Gradient Descent(24/49): loss=17.888705412783118, w0=73.76570620346655, w1=12.456859174998158\n",
      "Gradient Descent(25/49): loss=16.020292430893488, w0=72.77068915846718, w1=14.63460252916827\n",
      "Gradient Descent(26/49): loss=16.189659737976807, w0=73.21786325461498, w1=14.64574278724975\n",
      "Gradient Descent(27/49): loss=16.0685937265609, w0=74.95543573017675, w1=13.713862026340507\n",
      "Gradient Descent(28/49): loss=16.79361481867955, w0=74.13031368632521, w1=13.835578188666098\n",
      "Gradient Descent(29/49): loss=15.798983610865667, w0=74.58507031312027, w1=13.904884035409978\n",
      "Gradient Descent(30/49): loss=16.309805294250193, w0=72.8538904919478, w1=14.221183125116072\n",
      "Gradient Descent(31/49): loss=15.757591125953821, w0=73.83652608637453, w1=14.36703743630767\n",
      "Gradient Descent(32/49): loss=15.926770293944834, w0=72.88818808963376, w1=14.61194633833037\n",
      "Gradient Descent(33/49): loss=16.109174678631856, w0=73.41398987627444, w1=14.738562094962187\n",
      "Gradient Descent(34/49): loss=16.185447249240404, w0=73.38502000515872, w1=14.782097740386998\n",
      "Gradient Descent(35/49): loss=16.238141033767832, w0=72.79927951230674, w1=15.382879386959289\n",
      "Gradient Descent(36/49): loss=17.31924568872226, w0=73.76155873638497, w1=14.618034253838463\n",
      "Gradient Descent(37/49): loss=16.143118208087646, w0=73.53927192322249, w1=14.55659142892713\n",
      "Gradient Descent(38/49): loss=15.995820344518076, w0=74.83866500728682, w1=13.81162755479485\n",
      "Gradient Descent(39/49): loss=16.63408716823604, w0=75.09942624212886, w1=14.080931479864553\n",
      "Gradient Descent(40/49): loss=17.196542819161625, w0=75.53382183280097, w1=13.448107786500172\n",
      "Gradient Descent(41/49): loss=17.894962921507943, w0=73.91251049248342, w1=16.61119460941791\n",
      "Gradient Descent(42/49): loss=20.48030403342647, w0=72.37188555005689, w1=14.627451187362897\n",
      "Gradient Descent(43/49): loss=16.469615600132652, w0=73.82889977478432, w1=17.452065235055663\n",
      "Gradient Descent(44/49): loss=23.418781861558294, w0=73.1270450462071, w1=16.83923635506959\n",
      "Gradient Descent(45/49): loss=21.043012312830978, w0=73.4233834375809, w1=16.644865508706886\n",
      "Gradient Descent(46/49): loss=20.403364990499856, w0=74.27965670440788, w1=16.363407232617124\n",
      "Gradient Descent(47/49): loss=20.029572163424902, w0=74.15019375413188, w1=16.16150934783812\n",
      "Gradient Descent(48/49): loss=19.348505866372225, w0=74.0875863081805, w1=16.238671971908804\n",
      "Gradient Descent(49/49): loss=19.506768247378645, w0=72.99447977068729, w1=16.199223750339392\n",
      "SGD: execution time=0.035 seconds\n"
     ]
    }
   ],
   "source": [
    "# from stochastic_gradient_descent import *\n",
    "\n",
    "# Define the parameters of the algorithm.\n",
    "max_iters = 50\n",
    "gamma = 0.1\n",
    "batch_size = 1\n",
    "\n",
    "# Initialization\n",
    "w_initial = np.array([0, 0])\n",
    "\n",
    "# Start SGD.\n",
    "start_time = datetime.datetime.now()\n",
    "sgd_losses, sgd_ws = stochastic_gradient_descent(\n",
    "    y, tx, w_initial, batch_size, max_iters, gamma)\n",
    "end_time = datetime.datetime.now()\n",
    "\n",
    "# Print result\n",
    "exection_time = (end_time - start_time).total_seconds()\n",
    "print(\"SGD: execution time={t:.3f} seconds\".format(t=exection_time))"
   ]
  },
  {
   "cell_type": "code",
   "execution_count": 334,
   "metadata": {},
   "outputs": [
    {
     "data": {
      "application/vnd.jupyter.widget-view+json": {
       "model_id": "44db63a8ea264b16b95f7b7614f8043f",
       "version_major": 2,
       "version_minor": 0
      },
      "text/plain": [
       "A Jupyter Widget"
      ]
     },
     "metadata": {},
     "output_type": "display_data"
    },
    {
     "data": {
      "text/plain": [
       "<function __main__.plot_figure>"
      ]
     },
     "execution_count": 334,
     "metadata": {},
     "output_type": "execute_result"
    }
   ],
   "source": [
    "# Time Visualization\n",
    "from ipywidgets import IntSlider, interact\n",
    "def plot_figure(n_iter):\n",
    "    fig = gradient_descent_visualization(\n",
    "        sgd_losses, sgd_ws, grid_losses, grid_w0, grid_w1, mean_x, std_x, height, weight, n_iter)\n",
    "    fig.set_size_inches(10.0, 6.0)\n",
    "\n",
    "interact(plot_figure, n_iter=IntSlider(min=1, max=len(sgd_ws)))"
   ]
  },
  {
   "cell_type": "markdown",
   "metadata": {},
   "source": [
    "# 5 Effect of Outliers and MAE Cost Function, and Subgradient Descent"
   ]
  },
  {
   "cell_type": "markdown",
   "metadata": {},
   "source": [
    "### Exercise 5\n",
    "\n",
    "Load and plot data containing outliers"
   ]
  },
  {
   "cell_type": "code",
   "execution_count": 285,
   "metadata": {
    "collapsed": true
   },
   "outputs": [],
   "source": [
    "height, weight, gender = load_data(sub_sample=True, add_outlier=True)\n",
    "x, mean_x, std_x = standardize(height)\n",
    "y_out, tx_out = build_model_data(x, weight)"
   ]
  },
  {
   "cell_type": "code",
   "execution_count": 286,
   "metadata": {
    "collapsed": true
   },
   "outputs": [],
   "source": [
    "gender = np.append(gender, [0,1])"
   ]
  },
  {
   "cell_type": "code",
   "execution_count": 287,
   "metadata": {},
   "outputs": [
    {
     "data": {
      "text/plain": [
       "(202,)"
      ]
     },
     "execution_count": 287,
     "metadata": {},
     "output_type": "execute_result"
    }
   ],
   "source": [
    "male_height = height[[x for x in range(len(height)) if gender[x]==0]]\n",
    "male_weight = weight[[x for x in range(len(height)) if gender[x]==0]]\n",
    "female_height = height[[x for x in range(len(height)) if gender[x]==1]]\n",
    "female_weight = weight[[x for x in range(len(height)) if gender[x]==1]]\n",
    "male_height.shape"
   ]
  },
  {
   "cell_type": "code",
   "execution_count": 288,
   "metadata": {
    "scrolled": true
   },
   "outputs": [
    {
     "data": {
      "text/plain": [
       "<matplotlib.collections.PathCollection at 0x7faea02670b8>"
      ]
     },
     "execution_count": 288,
     "metadata": {},
     "output_type": "execute_result"
    },
    {
     "data": {
      "image/png": "[encoded data removed]",
      "text/plain": [
       "<matplotlib.figure.Figure at 0x7faea0267e80>"
      ]
     },
     "metadata": {},
     "output_type": "display_data"
    }
   ],
   "source": [
    "plt.scatter(male_height, male_weight)\n",
    "plt.scatter(female_height, female_weight)\n"
   ]
  },
  {
   "cell_type": "code",
   "execution_count": 289,
   "metadata": {},
   "outputs": [
    {
     "name": "stdout",
     "output_type": "stream",
     "text": [
      "Gradient Descent(0/29): loss=2869.835114535852, w0=51.84746409844845, w1=7.724426406192437\n",
      "Gradient Descent(1/29): loss=318.2821247015958, w0=67.401703327983, w1=10.04175432805012\n",
      "Gradient Descent(2/29): loss=88.64235561651263, w0=72.06797509684336, w1=10.736952704607411\n",
      "Gradient Descent(3/29): loss=67.9747763988552, w0=73.46785662750146, w1=10.945512217574597\n",
      "Gradient Descent(4/29): loss=66.11469426926604, w0=73.88782108669889, w1=11.00808007146475\n",
      "Gradient Descent(5/29): loss=65.947286877603, w0=74.01381042445813, w1=11.026850427631796\n",
      "Gradient Descent(6/29): loss=65.93222021235334, w0=74.05160722578589, w1=11.03248153448191\n",
      "Gradient Descent(7/29): loss=65.93086421248087, w0=74.06294626618423, w1=11.034170866536943\n",
      "Gradient Descent(8/29): loss=65.93074217249236, w0=74.06634797830372, w1=11.034677666153454\n",
      "Gradient Descent(9/29): loss=65.93073118889338, w0=74.06736849193958, w1=11.034829706038408\n",
      "Gradient Descent(10/29): loss=65.93073020036945, w0=74.06767464603033, w1=11.034875318003893\n",
      "Gradient Descent(11/29): loss=65.93073011140233, w0=74.06776649225755, w1=11.03488900159354\n",
      "Gradient Descent(12/29): loss=65.93073010339529, w0=74.06779404612573, w1=11.034893106670433\n",
      "Gradient Descent(13/29): loss=65.93073010267466, w0=74.06780231228618, w1=11.034894338193501\n",
      "Gradient Descent(14/29): loss=65.93073010260979, w0=74.06780479213431, w1=11.034894707650421\n",
      "Gradient Descent(15/29): loss=65.93073010260396, w0=74.06780553608874, w1=11.034894818487498\n"
     ]
    },
    {
     "data": {
      "text/plain": [
       "17"
      ]
     },
     "execution_count": 289,
     "metadata": {},
     "output_type": "execute_result"
    }
   ],
   "source": [
    "w_initial = np.array([0, 0])\n",
    "gamma = 0.7\n",
    "max_iters = 30\n",
    "losses_out, w_out = gradient_descent(y_out, tx_out, w_initial, max_iters, gamma)\n",
    "len(w_out)"
   ]
  },
  {
   "cell_type": "code",
   "execution_count": 290,
   "metadata": {},
   "outputs": [
    {
     "data": {
      "application/vnd.jupyter.widget-view+json": {
       "model_id": "ffe18115d67a44399127eccd4513e890",
       "version_major": 2,
       "version_minor": 0
      },
      "text/plain": [
       "A Jupyter Widget"
      ]
     },
     "metadata": {},
     "output_type": "display_data"
    },
    {
     "data": {
      "text/plain": [
       "<function __main__.plot_figure>"
      ]
     },
     "execution_count": 290,
     "metadata": {},
     "output_type": "execute_result"
    }
   ],
   "source": [
    "def plot_figure(n_iter):\n",
    "    fig = gradient_descent_visualization(\n",
    "        losses_out, w_out, grid_losses, grid_w0, grid_w1, mean_x, std_x, height, weight, n_iter)\n",
    "    fig.set_size_inches(10.0, 6.0)\n",
    "\n",
    "interact(plot_figure, n_iter=IntSlider(min=1, max=len(w_out)))"
   ]
  },
  {
   "cell_type": "markdown",
   "metadata": {},
   "source": [
    "### Exercise 6"
   ]
  },
  {
   "cell_type": "markdown",
   "metadata": {},
   "source": [
    "Modify the function `compute_loss(y, tx, w)` for the Mean Absolute Error cost function [here](#compute_loss)"
   ]
  },
  {
   "cell_type": "code",
   "execution_count": 291,
   "metadata": {
    "collapsed": true
   },
   "outputs": [],
   "source": [
    "def compute_loss_mae(y, tx, w):\n",
    "    N = tx.shape[0];\n",
    "    loss = (1 / N) * np.sum(np.abs(y - tx.dot(w)))\n",
    "    return loss"
   ]
  },
  {
   "cell_type": "code",
   "execution_count": 292,
   "metadata": {
    "collapsed": true
   },
   "outputs": [],
   "source": [
    "w_test = np.array([150, 100])"
   ]
  },
  {
   "cell_type": "code",
   "execution_count": 293,
   "metadata": {},
   "outputs": [
    {
     "name": "stdout",
     "output_type": "stream",
     "text": [
      "94.0970269816\n",
      "6700.17716894\n"
     ]
    }
   ],
   "source": [
    "print(compute_loss(y, tx, w_test, cost = \"mae\"))\n",
    "print(compute_loss(y, tx, w_test))"
   ]
  },
  {
   "cell_type": "code",
   "execution_count": 299,
   "metadata": {
    "collapsed": true
   },
   "outputs": [],
   "source": [
    "def compute_gradient_mae(y, tx, w):\n",
    "    N = tx.shape[0]\n",
    "    error_vec = y - tx.dot(w)\n",
    "    sub_grad = [0 if error_vec[i] == 0 else error_vec[i] / np.abs(error_vec[i]) for i in range(N)]\n",
    "    #print(sub_grad)\n",
    "    grad = -(1 / N) * np.transpose(tx).dot(sub_grad)\n",
    "    return grad"
   ]
  },
  {
   "cell_type": "code",
   "execution_count": 300,
   "metadata": {},
   "outputs": [
    {
     "data": {
      "text/plain": [
       "array([ 0.5956    ,  0.55638512])"
      ]
     },
     "execution_count": 300,
     "metadata": {},
     "output_type": "execute_result"
    }
   ],
   "source": [
    "compute_gradient_mae(y, tx, w_test)"
   ]
  },
  {
   "cell_type": "code",
   "execution_count": 301,
   "metadata": {
    "collapsed": true
   },
   "outputs": [],
   "source": [
    "def subgradient_descent(y, tx, initial_w, max_iters, gamma, tol = 1e-6, thresh_test_conv = 10):\n",
    "    \"\"\"Gradient descent algorithm.\"\"\"\n",
    "    # Define parameters to store w and loss\n",
    "    ws = [initial_w]\n",
    "    initial_loss = compute_loss(y, tx, initial_w, cost = \"mae\")\n",
    "    losses = [initial_loss]\n",
    "    w = initial_w\n",
    "    test_conv = 0\n",
    "    dist_succ_w = tol + 1\n",
    "    n_iter = 0;\n",
    "    while (n_iter < max_iters and dist_succ_w > tol):\n",
    "        grad = compute_gradient_mae(y, tx, w)\n",
    "        loss = compute_loss(y, tx, w, cost = \"mae\")\n",
    "        \n",
    "        # Test of convergence, test_conv counts the number of consecutive iterations for which loss has increased\n",
    "        if (loss > losses[n_iter]):\n",
    "            test_conv += 1\n",
    "            if (test_conv == thresh_test_conv):\n",
    "                print(\"Stopped computing because 10 consecutive iterations have involved an increase in loss.\")\n",
    "                return losses, ws\n",
    "        else:\n",
    "            test_conv = 0\n",
    "        \n",
    "        # updating w\n",
    "        w = w - gamma * grad\n",
    "        \n",
    "        # store w and loss\n",
    "        ws.append(w)\n",
    "        losses.append(loss)\n",
    "        print(\"Gradient Descent({bi}/{ti}): loss={l}, w0={w0}, w1={w1}\".format(\n",
    "              bi=n_iter, ti=max_iters - 1, l=loss, w0=w[0], w1=w[1]))\n",
    "        \n",
    "        # update distance between two successive w\n",
    "        dist_succ_w = np.linalg.norm(ws[len(ws)-1] - ws[len(ws)-2])\n",
    "        \n",
    "        # updat niter: number of iterations\n",
    "        n_iter += 1\n",
    "\n",
    "    return losses, ws"
   ]
  },
  {
   "cell_type": "code",
   "execution_count": 306,
   "metadata": {},
   "outputs": [
    {
     "name": "stdout",
     "output_type": "stream",
     "text": [
      "Gradient Descent(0/29): loss=74.06780585492638, w0=10.0, w1=1.055261488752624e-14\n",
      "Gradient Descent(1/29): loss=64.06780585492639, w0=20.0, w1=2.110522977505248e-14\n",
      "Gradient Descent(2/29): loss=54.067805854926384, w0=30.0, w1=3.1657844662578724e-14\n",
      "Gradient Descent(3/29): loss=44.067805854926384, w0=40.0, w1=4.221045955010496e-14\n",
      "Gradient Descent(4/29): loss=34.06780585492638, w0=50.0, w1=5.27630744376312e-14\n",
      "Gradient Descent(5/29): loss=24.186081863361224, w0=59.40594059405941, w1=0.8868917349265718\n",
      "Gradient Descent(6/29): loss=16.57390036871177, w0=64.95049504950495, w1=5.294136958480571\n",
      "Gradient Descent(7/29): loss=11.814643364857497, w0=68.91089108910892, w1=10.409491987173148\n",
      "Gradient Descent(8/29): loss=7.829766762015699, w0=71.88118811881189, w1=15.166515724701014\n",
      "Gradient Descent(9/29): loss=5.407776766939082, w0=73.16831683168319, w1=16.16824533672219\n",
      "Gradient Descent(10/29): loss=5.3321123460897555, w0=72.67326732673268, w1=15.905565298680463\n",
      "Gradient Descent(11/29): loss=5.310920251033078, w0=72.67326732673268, w1=15.96202616643409\n",
      "Gradient Descent(12/29): loss=5.310975439699778, w0=72.57425742574259, w1=15.93165331235213\n",
      "Gradient Descent(13/29): loss=5.3119093943781115, w0=72.87128712871288, w1=15.982120807986277\n",
      "Gradient Descent(14/29): loss=5.31479325272598, w0=72.57425742574259, w1=15.892408935915439\n",
      "Gradient Descent(15/29): loss=5.3121876781030934, w0=72.77227722772278, w1=15.971848640867156\n",
      "Gradient Descent(16/29): loss=5.312407232778181, w0=72.57425742574259, w1=15.957059113076674\n",
      "Gradient Descent(17/29): loss=5.311781177664396, w0=72.87128712871288, w1=16.007526608710823\n",
      "Gradient Descent(18/29): loss=5.315021172920425, w0=72.57425742574259, w1=15.917814736639984\n",
      "Gradient Descent(19/29): loss=5.3119858551717325, w0=72.77227722772278, w1=15.997254441591702\n",
      "Gradient Descent(20/29): loss=5.312444806757768, w0=72.57425742574259, w1=15.98246491380122\n",
      "Gradient Descent(21/29): loss=5.31165296095068, w0=72.87128712871288, w1=16.032932409435368\n",
      "Gradient Descent(22/29): loss=5.31524909311487, w0=72.57425742574259, w1=15.94322053736453\n",
      "Gradient Descent(23/29): loss=5.311851017490329, w0=72.87128712871288, w1=15.993688032998676\n",
      "Gradient Descent(24/29): loss=5.314897024467032, w0=72.57425742574259, w1=15.903976160927838\n",
      "Gradient Descent(25/29): loss=5.312095788408885, w0=72.77227722772278, w1=15.983415865879556\n",
      "Gradient Descent(26/29): loss=5.312424340157759, w0=72.57425742574259, w1=15.968626338089074\n",
      "Gradient Descent(27/29): loss=5.3117228007766135, w0=72.87128712871288, w1=16.019093833723222\n",
      "Gradient Descent(28/29): loss=5.315124944661479, w0=72.57425742574259, w1=15.929381961652384\n",
      "Gradient Descent(29/29): loss=5.311920857316262, w0=72.87128712871288, w1=15.97984945728653\n"
     ]
    },
    {
     "data": {
      "text/plain": [
       "31"
      ]
     },
     "execution_count": 306,
     "metadata": {},
     "output_type": "execute_result"
    }
   ],
   "source": [
    "w_sub = np.array([0, 0])\n",
    "gamma = 10\n",
    "max_iters = 30\n",
    "losses_sub, w_sub = subgradient_descent(y_out, tx_out, w_sub, max_iters, gamma)\n",
    "len(w_sub)"
   ]
  },
  {
   "cell_type": "code",
   "execution_count": 312,
   "metadata": {},
   "outputs": [
    {
     "data": {
      "application/vnd.jupyter.widget-view+json": {
       "model_id": "1f8f6cb1e53041ebafc67a12aea23c3c",
       "version_major": 2,
       "version_minor": 0
      },
      "text/plain": [
       "A Jupyter Widget"
      ]
     },
     "metadata": {},
     "output_type": "display_data"
    },
    {
     "data": {
      "text/plain": [
       "<function __main__.plot_figure>"
      ]
     },
     "execution_count": 312,
     "metadata": {},
     "output_type": "execute_result"
    }
   ],
   "source": [
    "def plot_figure(n_iter):\n",
    "    fig = gradient_descent_visualization(\n",
    "        losses_sub, w_sub, grid_losses, grid_w0, grid_w1, mean_x, std_x, height, weight, n_iter)\n",
    "    fig.set_size_inches(10.0, 6.0)\n",
    "\n",
    "interact(plot_figure, n_iter=IntSlider(min=1, max=len(w_sub)))"
   ]
  },
  {
   "cell_type": "code",
   "execution_count": 319,
   "metadata": {
    "collapsed": true
   },
   "outputs": [],
   "source": [
    "def compute_stoch_gradient_mae(y, tx, w, batch_size=1):\n",
    "    \"\"\"Compute a stochastic gradient from just few examples n and their corresponding y_n labels.\"\"\"\n",
    "    batched = [x for x in batch_iter(y, tx, batch_size)][0]\n",
    "    y_b = batched[0]\n",
    "    tx_b = batched[1]\n",
    "    \n",
    "    error_vec = y_b - tx_b.dot(w)\n",
    "    sub_grad_abs = [0 if error_vec[i] == 0 else error_vec[i] / np.abs(error_vec[i]) for i in range(batch_size)]\n",
    "    #print(\"sub_grad_abs: \", sub_grad_abs)\n",
    "    stoch_grad = -(1 / batch_size) * np.transpose(tx_b).dot(sub_grad_abs)\n",
    "    \n",
    "    return stoch_grad\n",
    "    "
   ]
  },
  {
   "cell_type": "code",
   "execution_count": 320,
   "metadata": {
    "collapsed": true
   },
   "outputs": [],
   "source": [
    "def stochastic_subgradient_descent(\n",
    "        y, tx, initial_w, batch_size, max_iters, gamma, tol = 1e-6, thresh_test_conv = 100):\n",
    "    \"\"\"Stochastic gradient descent algorithm.\"\"\"\n",
    "    # Define parameters to store w and loss\n",
    "    ws = [initial_w]\n",
    "    initial_loss = compute_loss(y, tx, initial_w, cost =\"mae\")\n",
    "    losses = [initial_loss]\n",
    "    w = initial_w\n",
    "    test_conv = 0\n",
    "    dist_succ_w = tol + 1\n",
    "    n_iter = 0\n",
    "    while (n_iter < max_iters and dist_succ_w > tol):\n",
    "        stoch_grad = compute_stoch_gradient_mae(y, tx, w, batch_size)\n",
    "        loss = compute_loss(y, tx, w, cost = \"mae\")\n",
    "        \n",
    "        # Test of convergence, test_conv counts the number of consecutive iterations for which loss has increased\n",
    "        if (loss > losses[n_iter]):\n",
    "            test_conv += 1\n",
    "            if (test_conv == thresh_test_conv):\n",
    "                print(\"Stopped computing because 10 consecutive iterations have involved an increase in loss.\")\n",
    "                return losses, ws\n",
    "        else:\n",
    "            test_conv = 0\n",
    "        \n",
    "        # updating w\n",
    "        w = w - gamma * stoch_grad\n",
    "        \n",
    "        #raise NotImplementedError\n",
    "        # store w and loss\n",
    "        ws.append(w)\n",
    "        losses.append(loss)\n",
    "        print(\"Gradient Descent({bi}/{ti}): loss={l}, w0={w0}, w1={w1}\".format(\n",
    "              bi=n_iter, ti=max_iters - 1, l=loss, w0=w[0], w1=w[1]))\n",
    "        \n",
    "        # computing distance between new w and former one\n",
    "        dist_succ_w = np.linalg.norm(ws[len(ws)-1] - ws[len(ws)-2])\n",
    "        \n",
    "        # updating the number of iteration\n",
    "        n_iter += 1\n",
    "\n",
    "    return losses, ws"
   ]
  },
  {
   "cell_type": "code",
   "execution_count": 325,
   "metadata": {},
   "outputs": [
    {
     "name": "stdout",
     "output_type": "stream",
     "text": [
      "Gradient Descent(0/49): loss=74.06780585492638, w0=2.0, w1=1.5805883316460383\n",
      "Gradient Descent(1/49): loss=72.06780585492638, w0=4.0, w1=3.417530328114026\n",
      "Gradient Descent(2/49): loss=70.06780585492638, w0=6.0, w1=2.276222407009515\n",
      "Gradient Descent(3/49): loss=68.06780585492639, w0=8.0, w1=0.9103704000777344\n",
      "Gradient Descent(4/49): loss=66.06780585492639, w0=10.0, w1=-0.8146755141123048\n",
      "Gradient Descent(5/49): loss=64.06780585492639, w0=12.0, w1=-3.354195011730858\n",
      "Gradient Descent(6/49): loss=62.067805854926384, w0=14.0, w1=-4.937358080292517\n",
      "Gradient Descent(7/49): loss=60.067805854926384, w0=16.0, w1=-5.744637563396018\n",
      "Gradient Descent(8/49): loss=58.067805854926384, w0=18.0, w1=-7.842107057684558\n",
      "Gradient Descent(9/49): loss=56.067805854926384, w0=20.0, w1=-7.187473651150963\n",
      "Gradient Descent(10/49): loss=54.067805854926384, w0=22.0, w1=-5.418521091309058\n",
      "Gradient Descent(11/49): loss=52.067805854926384, w0=24.0, w1=-6.674773677266728\n",
      "Gradient Descent(12/49): loss=50.067805854926384, w0=26.0, w1=-7.908466758076501\n",
      "Gradient Descent(13/49): loss=48.06780585492639, w0=28.0, w1=-9.082967285340004\n",
      "Gradient Descent(14/49): loss=46.067805854926384, w0=30.0, w1=-5.637206457424441\n",
      "Gradient Descent(15/49): loss=44.067805854926384, w0=32.0, w1=-6.778514378528952\n",
      "Gradient Descent(16/49): loss=42.067805854926384, w0=34.0, w1=-8.529366295675844\n",
      "Gradient Descent(17/49): loss=40.10287053610058, w0=36.0, w1=-9.053554235819899\n",
      "Gradient Descent(18/49): loss=38.22869034156432, w0=38.0, w1=-10.05451690258673\n",
      "Gradient Descent(19/49): loss=36.43134568510111, w0=40.0, w1=-7.673552380987939\n",
      "Gradient Descent(20/49): loss=34.31482347663714, w0=42.0, w1=-9.447985448332492\n",
      "Gradient Descent(21/49): loss=32.79940697905121, w0=40.0, w1=-7.05930299898159\n",
      "Gradient Descent(22/49): loss=34.258450923791, w0=42.0, w1=-9.261654616319268\n",
      "Gradient Descent(23/49): loss=32.761190093979714, w0=44.0, w1=-6.06648255742932\n",
      "Gradient Descent(24/49): loss=30.441040786087175, w0=42.0, w1=-2.6052743062116623\n",
      "Gradient Descent(25/49): loss=32.067805854926384, w0=44.0, w1=-2.001947464593937\n",
      "Gradient Descent(26/49): loss=30.076439340369284, w0=46.0, w1=-0.720064496637622\n",
      "Gradient Descent(27/49): loss=28.075826701275407, w0=48.0, w1=-1.9763170825952918\n",
      "Gradient Descent(28/49): loss=26.259615426794042, w0=50.0, w1=-4.552409266631742\n",
      "Gradient Descent(29/49): loss=25.014857672895094, w0=52.0, w1=-5.125979372486746\n",
      "Gradient Descent(30/49): loss=23.67482830008362, w0=50.0, w1=-3.5626585089614027\n",
      "Gradient Descent(31/49): loss=24.78505964770782, w0=52.0, w1=-1.7937059491194982\n",
      "Gradient Descent(32/49): loss=22.724926648948678, w0=54.0, w1=-2.754742971051146\n",
      "Gradient Descent(33/49): loss=21.451631352095255, w0=52.0, w1=-1.1914221075258022\n",
      "Gradient Descent(34/49): loss=22.593524447729106, w0=54.0, w1=-1.9912192287728399\n",
      "Gradient Descent(35/49): loss=21.189837630012487, w0=56.0, w1=-2.9522562507044876\n",
      "Gradient Descent(36/49): loss=20.208946251937114, w0=58.0, w1=-3.5258263565594916\n",
      "Gradient Descent(37/49): loss=19.421805287110978, w0=60.0, w1=-1.6481614902881057\n",
      "Gradient Descent(38/49): loss=17.51960721703652, w0=58.0, w1=1.1426884495459482\n",
      "Gradient Descent(39/49): loss=17.32614328485605, w0=60.0, w1=0.9117904338639166\n",
      "Gradient Descent(40/49): loss=16.242913141441658, w0=62.0, w1=2.672896001970344\n",
      "Gradient Descent(41/49): loss=14.41528820515836, w0=64.0, w1=4.509837998438331\n",
      "Gradient Descent(42/49): loss=12.608624966654967, w0=66.0, w1=3.003584744874825\n",
      "Gradient Descent(43/49): loss=12.725652724675511, w0=68.0, w1=3.7754088885595967\n",
      "Gradient Descent(44/49): loss=11.70549950898048, w0=66.0, w1=5.765651034961776\n",
      "Gradient Descent(45/49): loss=11.170289052081126, w0=68.0, w1=6.7234454786853615\n",
      "Gradient Descent(46/49): loss=9.994856483885172, w0=70.0, w1=7.481970342183162\n",
      "Gradient Descent(47/49): loss=9.048488876914647, w0=72.0, w1=8.195108807003672\n",
      "Gradient Descent(48/49): loss=8.29748088711819, w0=74.0, w1=10.707245852421305\n",
      "Gradient Descent(49/49): loss=6.7994718296248235, w0=72.0, w1=12.335703351095551\n"
     ]
    }
   ],
   "source": [
    "w_init_sub = np.array([0, 0])\n",
    "gamma = 2\n",
    "max_iters = 50\n",
    "losses_stoch_sub, w_stoch_sub = stochastic_subgradient_descent(y_out, tx_out, w_init_sub, 1, max_iters, gamma)\n"
   ]
  },
  {
   "cell_type": "code",
   "execution_count": 326,
   "metadata": {},
   "outputs": [
    {
     "data": {
      "application/vnd.jupyter.widget-view+json": {
       "model_id": "5b0fa285bda9436f8537bdac528d9fde",
       "version_major": 2,
       "version_minor": 0
      },
      "text/plain": [
       "A Jupyter Widget"
      ]
     },
     "metadata": {},
     "output_type": "display_data"
    },
    {
     "data": {
      "text/plain": [
       "<function __main__.plot_figure>"
      ]
     },
     "execution_count": 326,
     "metadata": {},
     "output_type": "execute_result"
    }
   ],
   "source": [
    "def plot_figure(n_iter):\n",
    "    fig = gradient_descent_visualization(\n",
    "        losses_stoch_sub, w_stoch_sub, grid_losses, grid_w0, grid_w1, mean_x, std_x, height, weight, n_iter)\n",
    "    fig.set_size_inches(10.0, 6.0)\n",
    "\n",
    "interact(plot_figure, n_iter=IntSlider(min=1, max=len(w_stoch_sub)))"
   ]
  },
  {
   "cell_type": "code",
   "execution_count": null,
   "metadata": {
    "collapsed": true
   },
   "outputs": [],
   "source": []
  }
 ],
 "metadata": {
  "anaconda-cloud": {},
  "kernelspec": {
   "display_name": "Python 3",
   "language": "python",
   "name": "python3"
  },
  "language_info": {
   "codemirror_mode": {
    "name": "ipython",
    "version": 3
   },
   "file_extension": ".py",
   "mimetype": "text/x-python",
   "name": "python",
   "nbconvert_exporter": "python",
   "pygments_lexer": "ipython3",
   "version": "3.6.2"
  }
 },
 "nbformat": 4,
 "nbformat_minor": 1
}
