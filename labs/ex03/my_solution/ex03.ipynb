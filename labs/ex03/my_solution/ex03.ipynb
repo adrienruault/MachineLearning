{
 "cells": [
  {
   "cell_type": "code",
   "execution_count": 170,
   "metadata": {},
   "outputs": [
    {
     "name": "stdout",
     "output_type": "stream",
     "text": [
      "The autoreload extension is already loaded. To reload it, use:\n",
      "  %reload_ext autoreload\n"
     ]
    }
   ],
   "source": [
    "# Useful starting lines\n",
    "%matplotlib inline\n",
    "import numpy as np\n",
    "import matplotlib.pyplot as plt\n",
    "%load_ext autoreload\n",
    "%autoreload 2\n",
    "from algorithms import *"
   ]
  },
  {
   "cell_type": "markdown",
   "metadata": {},
   "source": [
    "# 1 Least squares and linear basis functions models\n",
    "## 1.1 Least squares"
   ]
  },
  {
   "cell_type": "code",
   "execution_count": 171,
   "metadata": {
    "collapsed": true
   },
   "outputs": [],
   "source": [
    "def least_squares(y, tx):\n",
    "    \"\"\"calculate the least squares solution.\"\"\"\n",
    "    N = tx.shape[0]\n",
    "    w = np.linalg.solve(np.transpose(tx).dot(tx), np.transpose(tx).dot(y))\n",
    "    loss = (1 / (2*N)) * np.linalg.norm(y - tx.dot(w))**2\n",
    "    \n",
    "    return loss, w"
   ]
  },
  {
   "cell_type": "markdown",
   "metadata": {},
   "source": [
    "### Load the data\n",
    "Here we will reuse the dataset `height_weight_genders.csv` from previous exercise section to check the correctness of your implementation. Please compare it with your previous result."
   ]
  },
  {
   "cell_type": "code",
   "execution_count": 190,
   "metadata": {
    "collapsed": true
   },
   "outputs": [],
   "source": [
    "from helpers import *\n",
    "def test_your_least_squares():\n",
    "    height, weight, gender = load_data_from_ex02(sub_sample=False, add_outlier=False)\n",
    "    x, mean_x, std_x = standardize(height)\n",
    "    y, tx = build_model_data(x, weight)\n",
    "    \n",
    "    ls_loss, ls_w = least_squares(y, tx)\n",
    "    \n",
    "    w0_grid_test = np.linspace(-100, 100, 100)\n",
    "    w1_grid_test = np.linspace(-100, 100, 100)\n",
    "    grid_loss, grid_w = grid_search(y, tx, w0_grid_test, w1_grid_test)\n",
    "    \n",
    "    initial_w = [0, 0]\n",
    "    gamma_GD = 0.7\n",
    "    gamma_GD_mae = 10\n",
    "    max_iters = 500\n",
    "    GD_loss, GD_w = gradient_descent(y, tx, initial_w, max_iters, gamma_GD, cost='mse', tol=1e-2, thresh_test_conv=10)\n",
    "    GD_loss_mae, GD_w_mae = gradient_descent(y, tx, initial_w, max_iters, gamma_GD_mae, cost='mae', tol=1e-2, thresh_test_conv=10)\n",
    "\n",
    "    gamma_SGD = 0.1\n",
    "    gamma_SGD_mae = 2\n",
    "    max_iters = 100\n",
    "    batch_size = 200\n",
    "    SGD_loss, SGD_w = stochastic_gradient_descent(y, tx, initial_w, batch_size, max_iters, gamma_GD, cost='mse', tol=1e-2, thresh_test_conv=10)\n",
    "    SGD_loss_mae, SGD_w_mae = stochastic_gradient_descent(y, tx, initial_w, batch_size, max_iters, gamma_GD_mae, cost='mae', tol=1e-2, thresh_test_conv=10)\n",
    "    \n",
    "    \n",
    "    print(\"ls_w:\", ls_w)\n",
    "    print(\"grid_w:\", grid_w)\n",
    "    print(\"GD_w:\", GD_w[len(GD_w)-1])\n",
    "    print(\"GD_w_mae:\", GD_w_mae[len(GD_w_mae)-1])\n",
    "    print(\"SGD_w:\", SGD_w[len(GD_w_mae)-1])\n",
    "    print(\"SGD_w_mae\", SGD_w_mae[len(GD_w_mae)-1])\n",
    "    \n",
    "    return 0;"
   ]
  },
  {
   "cell_type": "markdown",
   "metadata": {},
   "source": [
    "Test it here"
   ]
  },
  {
   "cell_type": "code",
   "execution_count": 191,
   "metadata": {},
   "outputs": [
    {
     "name": "stdout",
     "output_type": "stream",
     "text": [
      "Gradient Descent(8/499): loss=15.385899822261674, w0=73.29247935783842, w1=13.47944711380919, cost: mse\n",
      "Gradient Descent(18/499): loss=4.424632224699847, w0=73.24, w1=13.526244743050533, cost: mae\n",
      "Gradient Descent(99/99): loss=15.70282771138647, w0=73.20787708316423, w1=13.06224269206525, cost: mse\n",
      "Gradient Descent(99/99): loss=4.43287323279368, w0=72.70000000000009, w1=13.295254145525107, cost: mae\n",
      "ls_w: [ 73.293922    13.47971243]\n",
      "grid_w: [73.737373737373758, 13.131313131313135]\n",
      "GD_w: [ 73.29247936  13.47944711]\n",
      "GD_w_mae: [ 73.24        13.52624474]\n",
      "SGD_w: [ 72.44365677  13.19076508]\n",
      "SGD_w_mae [ 74.6         14.27883668]\n"
     ]
    },
    {
     "data": {
      "text/plain": [
       "0"
      ]
     },
     "execution_count": 191,
     "metadata": {},
     "output_type": "execute_result"
    }
   ],
   "source": [
    "test_your_least_squares()"
   ]
  },
  {
   "cell_type": "markdown",
   "metadata": {},
   "source": [
    "## 1.2 Least squares with a linear basis function model\n",
    "Start from this section, we will use the dataset `dataEx3.csv`.\n",
    "\n",
    "### Implement polynomial basis functions"
   ]
  },
  {
   "cell_type": "code",
   "execution_count": 71,
   "metadata": {
    "scrolled": false
   },
   "outputs": [
    {
     "name": "stdout",
     "output_type": "stream",
     "text": [
      "shape of x (50,)\n",
      "shape of y (50,)\n"
     ]
    }
   ],
   "source": [
    "# load dataset\n",
    "x, y = load_data()\n",
    "print(\"shape of x {}\".format(x.shape))\n",
    "print(\"shape of y {}\".format(y.shape))"
   ]
  },
  {
   "cell_type": "code",
   "execution_count": 89,
   "metadata": {},
   "outputs": [
    {
     "data": {
      "text/plain": [
       "array([ 0.35237491,  4.8951233 ,  1.86662437,  3.50706129,  3.38087384,\n",
       "        0.73093728,  3.88562366,  5.65224803,  6.28318531,  2.37137419,\n",
       "        0.60474982,  3.63324875,  0.85712473,  2.49756165,  1.61424946,\n",
       "        5.39987312,  6.15699785,  6.0308104 ,  0.47856237,  2.87612401,\n",
       "        4.51656093,  0.98331219,  1.10949964,  0.1       ,  2.11899928,\n",
       "        1.36187455,  4.01181111,  5.77843549,  4.26418602,  1.2356871 ,\n",
       "        2.24518674,  1.99281183,  1.48806201,  4.64274839,  4.39037348,\n",
       "        3.00231147,  0.22618746,  5.27368567,  5.02131076,  5.52606058,\n",
       "        2.6237491 ,  4.76893584,  3.12849893,  1.74043692,  3.7594362 ,\n",
       "        3.25468638,  5.90462294,  4.13799857,  2.74993656,  5.14749821])"
      ]
     },
     "execution_count": 89,
     "metadata": {},
     "output_type": "execute_result"
    }
   ],
   "source": [
    "x"
   ]
  },
  {
   "cell_type": "code",
   "execution_count": 82,
   "metadata": {},
   "outputs": [
    {
     "data": {
      "text/plain": [
       "array([[ 1,  4,  9, 49],\n",
       "       [16, 25, 16, 64]])"
      ]
     },
     "execution_count": 82,
     "metadata": {},
     "output_type": "execute_result"
    }
   ],
   "source": [
    "a = np.array([[1, 2], [4, 5]])\n",
    "b = np.array([3, 4])\n",
    "c = np.array([7, 8])\n",
    "a=np.c_[a, b]\n",
    "a = np.c_[a, c]\n",
    "a**2"
   ]
  },
  {
   "cell_type": "code",
   "execution_count": 192,
   "metadata": {
    "collapsed": true
   },
   "outputs": [],
   "source": [
    "def build_poly(x, degree):\n",
    "    \"\"\"polynomial basis functions for input data x, for j=0 up to j=degree.\"\"\"\n",
    "    # Exception handling if x has only one column: cannot call x.shape[1]\n",
    "    try:\n",
    "        D = x.shape[1]\n",
    "    except IndexError:\n",
    "        D = 1\n",
    "        \n",
    "    N = x.shape[0]\n",
    "    \n",
    "    # First column is offset column of 1\n",
    "    tx = np.ones(N)\n",
    "    for d in range(degree):\n",
    "        tx = np.c_[tx, x**(d+1)]\n",
    "            \n",
    "    return tx\n",
    "    "
   ]
  },
  {
   "cell_type": "code",
   "execution_count": 193,
   "metadata": {},
   "outputs": [
    {
     "data": {
      "text/plain": [
       "array([[  1.00000000e+00,   3.52374910e-01,   1.24168077e-01,\n",
       "          4.37537150e-02],\n",
       "       [  1.00000000e+00,   4.89512330e+00,   2.39622321e+01,\n",
       "          1.17298081e+02],\n",
       "       [  1.00000000e+00,   1.86662437e+00,   3.48428655e+00,\n",
       "          6.50385420e+00]])"
      ]
     },
     "execution_count": 193,
     "metadata": {},
     "output_type": "execute_result"
    }
   ],
   "source": [
    "build_poly(x, 3)[:3]"
   ]
  },
  {
   "cell_type": "markdown",
   "metadata": {},
   "source": [
    "Let us play with polynomial regression. Note that we will use your implemented function `compute_mse`. Please copy and paste your implementation from exercise02."
   ]
  },
  {
   "cell_type": "code",
   "execution_count": 194,
   "metadata": {
    "collapsed": true
   },
   "outputs": [],
   "source": [
    "from plots import *\n",
    "\n",
    "def polynomial_regression():\n",
    "    \"\"\"Constructing the polynomial basis function expansion of the data,\n",
    "       and then running least squares regression.\"\"\"\n",
    "    # define parameters\n",
    "    degrees = [1, 3, 7, 12]\n",
    "    \n",
    "    # define the structure of the figure\n",
    "    num_row = 2\n",
    "    num_col = 2\n",
    "    f, axs = plt.subplots(num_row, num_col)\n",
    "\n",
    "    for ind, degree in enumerate(degrees):\n",
    "        \n",
    "        tx = build_poly(x, degree)\n",
    "        #raise NotImplementedError\n",
    "        \n",
    "        loss, w = least_squares(y, tx)\n",
    "        \n",
    "        rmse = np.sqrt(2 * compute_loss(y, tx, w, cost = \"mse\"))\n",
    "        #raise NotImplementedError\n",
    "\n",
    "        print(\"Processing {i}th experiment, degree={d}, rmse={loss}\".format(\n",
    "              i=ind + 1, d=degree, loss=rmse))\n",
    "        # plot fit\n",
    "        plot_fitted_curve(\n",
    "            y, x, w, degree, axs[ind // num_col][ind % num_col])\n",
    "    plt.tight_layout()\n",
    "    plt.savefig(\"visualize_polynomial_regression\")\n",
    "    plt.show()"
   ]
  },
  {
   "cell_type": "markdown",
   "metadata": {},
   "source": [
    "Run polynomial regression"
   ]
  },
  {
   "cell_type": "code",
   "execution_count": 195,
   "metadata": {},
   "outputs": [
    {
     "name": "stdout",
     "output_type": "stream",
     "text": [
      "Processing 1th experiment, degree=1, rmse=0.47187607963421874\n",
      "Processing 2th experiment, degree=3, rmse=0.2585827766773751\n",
      "Processing 3th experiment, degree=7, rmse=0.24965870360907375\n",
      "Processing 4th experiment, degree=12, rmse=0.24328247481248674\n"
     ]
    },
    {
     "data": {
      "image/png": "[encoded data removed]",
      "text/plain": [
       "<matplotlib.figure.Figure at 0x7f6b552f8f98>"
      ]
     },
     "metadata": {},
     "output_type": "display_data"
    }
   ],
   "source": [
    "polynomial_regression()"
   ]
  },
  {
   "cell_type": "markdown",
   "metadata": {},
   "source": [
    "# 2 Evaluating model predication performance\n",
    "\n",
    "\n",
    "Let us show the train and test splits for various polynomial degrees. First of all, please fill in the function `split_data()`"
   ]
  },
  {
   "cell_type": "code",
   "execution_count": 116,
   "metadata": {
    "collapsed": true
   },
   "outputs": [],
   "source": [
    "def split_data(x, y, ratio, seed=1):\n",
    "    \"\"\"\n",
    "    split the dataset based on the split ratio. If ratio is 0.8 \n",
    "    you will have 80% of your data set dedicated to training \n",
    "    and the rest dedicated to testing\n",
    "    \"\"\"\n",
    "    # set seed\n",
    "    np.random.seed(seed)\n",
    "    \n",
    "    N = x.shape[0]\n",
    "    \n",
    "    shuffle_indices = np.random.permutation(np.arange(N))\n",
    "    shuffled_y = y[shuffle_indices]\n",
    "    shuffled_x = x[shuffle_indices]\n",
    "    \n",
    "    split_index = round(N * ratio);\n",
    "    \n",
    "    y_train = shuffled_y[:split_index]\n",
    "    x_train = shuffled_x[:split_index]\n",
    "    \n",
    "    y_val = shuffled_y[split_index:]\n",
    "    x_val = shuffled_x[split_index:]\n",
    "    \n",
    "    return [x_train, y_train], [x_val, y_val]"
   ]
  },
  {
   "cell_type": "markdown",
   "metadata": {},
   "source": [
    "Then, test your `split_data` function below."
   ]
  },
  {
   "cell_type": "code",
   "execution_count": 120,
   "metadata": {
    "collapsed": true
   },
   "outputs": [],
   "source": [
    "def train_test_split_demo(x, y, degree, ratio, seed):\n",
    "    \"\"\"polynomial regression with different split ratios and different degrees.\"\"\"\n",
    "    train_set, val_set = split_data(x, y, ratio, seed)\n",
    "    \n",
    "    x_train = train_set[0]\n",
    "    x_val = val_set[0]\n",
    "    \n",
    "    y_train = train_set[1]\n",
    "    y_val = val_set[1]\n",
    "    \n",
    "    tx_train = build_poly(x_train, degree)\n",
    "    tx_val = build_poly(x_val, degree)\n",
    "        \n",
    "    loss, w = least_squares(y_train, tx_train)\n",
    "    \n",
    "    train_loss = compute_loss(y_train, tx_train, w, cost = \"mse\")\n",
    "    val_loss = compute_loss(y_val, tx_val, w, cost = \"mse\")\n",
    "    \n",
    "    rmse_tr = np.sqrt(2 * train_loss)\n",
    "    rmse_te = np.sqrt(2 * val_loss)\n",
    "\n",
    "    print(\"proportion={p}, degree={d}, Training RMSE={tr:.3f}, Testing RMSE={te:.3f}\".format(\n",
    "          p=ratio, d=degree, tr=rmse_tr, te=rmse_te))\n"
   ]
  },
  {
   "cell_type": "code",
   "execution_count": 123,
   "metadata": {},
   "outputs": [
    {
     "data": {
      "text/plain": [
       "5.0"
      ]
     },
     "execution_count": 123,
     "metadata": {},
     "output_type": "execute_result"
    }
   ],
   "source": [
    "x.shape[0]*0.1"
   ]
  },
  {
   "cell_type": "code",
   "execution_count": 124,
   "metadata": {},
   "outputs": [
    {
     "name": "stdout",
     "output_type": "stream",
     "text": [
      "proportion=0.9, degree=1, Training RMSE=0.494, Testing RMSE=0.181\n",
      "proportion=0.9, degree=3, Training RMSE=0.264, Testing RMSE=0.206\n",
      "proportion=0.9, degree=7, Training RMSE=0.254, Testing RMSE=0.220\n",
      "proportion=0.9, degree=12, Training RMSE=0.242, Testing RMSE=0.250\n",
      "proportion=0.5, degree=1, Training RMSE=0.455, Testing RMSE=0.531\n",
      "proportion=0.5, degree=3, Training RMSE=0.239, Testing RMSE=0.296\n",
      "proportion=0.5, degree=7, Training RMSE=0.232, Testing RMSE=0.284\n",
      "proportion=0.5, degree=12, Training RMSE=0.205, Testing RMSE=1.548\n",
      "proportion=0.1, degree=1, Training RMSE=0.428, Testing RMSE=0.534\n",
      "proportion=0.1, degree=3, Training RMSE=0.085, Testing RMSE=0.460\n",
      "proportion=0.1, degree=7, Training RMSE=0.000, Testing RMSE=2.254\n",
      "proportion=0.1, degree=12, Training RMSE=0.000, Testing RMSE=4.651\n"
     ]
    }
   ],
   "source": [
    "seed = 6\n",
    "degrees = [1, 3, 7, 12]\n",
    "split_ratios = [0.9, 0.5, 0.1]\n",
    "\n",
    "for split_ratio in split_ratios:\n",
    "    for degree in degrees:\n",
    "        train_test_split_demo(x, y, degree, split_ratio, seed)"
   ]
  },
  {
   "cell_type": "markdown",
   "metadata": {},
   "source": [
    "# 3 Ridge Regression\n",
    "Please fill in the function below."
   ]
  },
  {
   "cell_type": "code",
   "execution_count": 125,
   "metadata": {
    "collapsed": true
   },
   "outputs": [],
   "source": [
    "def ridge_regression(y, tx, lambda_):\n",
    "    \"\"\"implement ridge regression.\"\"\"\n",
    "    N = tx.shape[0]\n",
    "    D = tx.shape[1]\n",
    "    lambda_prime = lambda_ * 2 * N\n",
    "    I = np.diag(np.ones(D))\n",
    "    w = np.linalg.solve(np.transpose(tx).dot(tx) + lambda_prime * I, np.transpose(tx).dot(y))\n",
    "    loss = (1 / (2*N)) * np.linalg.norm(y - tx.dot(w))**2 + lambda_ * np.linalg.norm(w)**2\n",
    "    \n",
    "    return loss, w"
   ]
  },
  {
   "cell_type": "code",
   "execution_count": 198,
   "metadata": {
    "collapsed": true
   },
   "outputs": [],
   "source": [
    "# Apparently running using mse or ridge cost function to estimate the lambda needed is the same\n",
    "def ridge_regression_demo(x, y, degree, ratio, seed):\n",
    "    \"\"\"ridge regression demo.\"\"\"\n",
    "    # define parameter\n",
    "    lambdas = np.logspace(-5, 0, 100)\n",
    "    \n",
    "    [x_train, y_train], [x_val, y_val] = split_data(x, y , ratio, seed)\n",
    "    \n",
    "    tx_train = build_poly(x_train, degree)\n",
    "    tx_val = build_poly(x_val, degree)\n",
    "    \n",
    "    rmse_tr = []\n",
    "    rmse_te = []\n",
    "    rmse_min = 1;\n",
    "    for ind, lambda_ in enumerate(lambdas):\n",
    "        loss, w = ridge_regression(y_train, tx_train, lambda_)\n",
    "        \n",
    "        rmse_tr += [np.sqrt(2 * compute_loss(y_train, tx_train, w, cost = \"ridge\", lambda_ = lambda_))]\n",
    "        rmse_te += [np.sqrt(2 * compute_loss(y_val, tx_val, w, cost = \"ridge\", lambda_ = lambda_))]\n",
    "        \n",
    "        if (rmse_te[len(rmse_te)-1] <= rmse_min):\n",
    "            rmse_min = rmse_te[len(rmse_te)-1]\n",
    "            lambda_min = lambda_\n",
    "        \n",
    "        # ***************************************************\n",
    "        # INSERT YOUR CODE HERE\n",
    "        # ridge regression with a given lambda\n",
    "        # ***************************************************\n",
    "        print(\"proportion={p}, degree={d}, lambda={l:.3f}, Training RMSE={tr:.3f}, Testing RMSE={te:.3f}\".format(\n",
    "               p=ratio, d=degree, l=lambda_, tr=rmse_tr[ind], te=rmse_te[ind]))\n",
    "        \n",
    "    # Plot the obtained results\n",
    "    plot_train_test(rmse_tr, rmse_te, lambdas, degree)\n",
    "    print(\"lambda min:\", lambda_min)"
   ]
  },
  {
   "cell_type": "code",
   "execution_count": 199,
   "metadata": {},
   "outputs": [
    {
     "name": "stdout",
     "output_type": "stream",
     "text": [
      "proportion=0.5, degree=7, lambda=0.000, Training RMSE=0.227, Testing RMSE=0.338\n",
      "proportion=0.5, degree=7, lambda=0.000, Training RMSE=0.227, Testing RMSE=0.338\n",
      "proportion=0.5, degree=7, lambda=0.000, Training RMSE=0.227, Testing RMSE=0.338\n",
      "proportion=0.5, degree=7, lambda=0.000, Training RMSE=0.227, Testing RMSE=0.338\n",
      "proportion=0.5, degree=7, lambda=0.000, Training RMSE=0.227, Testing RMSE=0.338\n",
      "proportion=0.5, degree=7, lambda=0.000, Training RMSE=0.227, Testing RMSE=0.337\n",
      "proportion=0.5, degree=7, lambda=0.000, Training RMSE=0.227, Testing RMSE=0.337\n",
      "proportion=0.5, degree=7, lambda=0.000, Training RMSE=0.227, Testing RMSE=0.337\n",
      "proportion=0.5, degree=7, lambda=0.000, Training RMSE=0.227, Testing RMSE=0.337\n",
      "proportion=0.5, degree=7, lambda=0.000, Training RMSE=0.228, Testing RMSE=0.337\n",
      "proportion=0.5, degree=7, lambda=0.000, Training RMSE=0.228, Testing RMSE=0.337\n",
      "proportion=0.5, degree=7, lambda=0.000, Training RMSE=0.228, Testing RMSE=0.337\n",
      "proportion=0.5, degree=7, lambda=0.000, Training RMSE=0.228, Testing RMSE=0.337\n",
      "proportion=0.5, degree=7, lambda=0.000, Training RMSE=0.228, Testing RMSE=0.337\n",
      "proportion=0.5, degree=7, lambda=0.000, Training RMSE=0.228, Testing RMSE=0.337\n",
      "proportion=0.5, degree=7, lambda=0.000, Training RMSE=0.228, Testing RMSE=0.337\n",
      "proportion=0.5, degree=7, lambda=0.000, Training RMSE=0.228, Testing RMSE=0.337\n",
      "proportion=0.5, degree=7, lambda=0.000, Training RMSE=0.228, Testing RMSE=0.336\n",
      "proportion=0.5, degree=7, lambda=0.000, Training RMSE=0.228, Testing RMSE=0.336\n",
      "proportion=0.5, degree=7, lambda=0.000, Training RMSE=0.228, Testing RMSE=0.336\n",
      "proportion=0.5, degree=7, lambda=0.000, Training RMSE=0.228, Testing RMSE=0.336\n",
      "proportion=0.5, degree=7, lambda=0.000, Training RMSE=0.228, Testing RMSE=0.336\n",
      "proportion=0.5, degree=7, lambda=0.000, Training RMSE=0.228, Testing RMSE=0.336\n",
      "proportion=0.5, degree=7, lambda=0.000, Training RMSE=0.228, Testing RMSE=0.336\n",
      "proportion=0.5, degree=7, lambda=0.000, Training RMSE=0.229, Testing RMSE=0.336\n",
      "proportion=0.5, degree=7, lambda=0.000, Training RMSE=0.229, Testing RMSE=0.336\n",
      "proportion=0.5, degree=7, lambda=0.000, Training RMSE=0.229, Testing RMSE=0.335\n",
      "proportion=0.5, degree=7, lambda=0.000, Training RMSE=0.229, Testing RMSE=0.335\n",
      "proportion=0.5, degree=7, lambda=0.000, Training RMSE=0.229, Testing RMSE=0.335\n",
      "proportion=0.5, degree=7, lambda=0.000, Training RMSE=0.229, Testing RMSE=0.335\n",
      "proportion=0.5, degree=7, lambda=0.000, Training RMSE=0.229, Testing RMSE=0.335\n",
      "proportion=0.5, degree=7, lambda=0.000, Training RMSE=0.230, Testing RMSE=0.335\n",
      "proportion=0.5, degree=7, lambda=0.000, Training RMSE=0.230, Testing RMSE=0.335\n",
      "proportion=0.5, degree=7, lambda=0.000, Training RMSE=0.230, Testing RMSE=0.335\n",
      "proportion=0.5, degree=7, lambda=0.001, Training RMSE=0.230, Testing RMSE=0.335\n",
      "proportion=0.5, degree=7, lambda=0.001, Training RMSE=0.230, Testing RMSE=0.335\n",
      "proportion=0.5, degree=7, lambda=0.001, Training RMSE=0.231, Testing RMSE=0.334\n",
      "proportion=0.5, degree=7, lambda=0.001, Training RMSE=0.231, Testing RMSE=0.334\n",
      "proportion=0.5, degree=7, lambda=0.001, Training RMSE=0.231, Testing RMSE=0.334\n",
      "proportion=0.5, degree=7, lambda=0.001, Training RMSE=0.231, Testing RMSE=0.334\n",
      "proportion=0.5, degree=7, lambda=0.001, Training RMSE=0.232, Testing RMSE=0.333\n",
      "proportion=0.5, degree=7, lambda=0.001, Training RMSE=0.232, Testing RMSE=0.333\n",
      "proportion=0.5, degree=7, lambda=0.001, Training RMSE=0.232, Testing RMSE=0.332\n",
      "proportion=0.5, degree=7, lambda=0.001, Training RMSE=0.233, Testing RMSE=0.331\n",
      "proportion=0.5, degree=7, lambda=0.002, Training RMSE=0.233, Testing RMSE=0.331\n",
      "proportion=0.5, degree=7, lambda=0.002, Training RMSE=0.234, Testing RMSE=0.330\n",
      "proportion=0.5, degree=7, lambda=0.002, Training RMSE=0.234, Testing RMSE=0.329\n",
      "proportion=0.5, degree=7, lambda=0.002, Training RMSE=0.235, Testing RMSE=0.327\n",
      "proportion=0.5, degree=7, lambda=0.003, Training RMSE=0.235, Testing RMSE=0.326\n",
      "proportion=0.5, degree=7, lambda=0.003, Training RMSE=0.236, Testing RMSE=0.325\n",
      "proportion=0.5, degree=7, lambda=0.003, Training RMSE=0.237, Testing RMSE=0.323\n",
      "proportion=0.5, degree=7, lambda=0.004, Training RMSE=0.238, Testing RMSE=0.321\n",
      "proportion=0.5, degree=7, lambda=0.004, Training RMSE=0.238, Testing RMSE=0.320\n",
      "proportion=0.5, degree=7, lambda=0.005, Training RMSE=0.239, Testing RMSE=0.318\n",
      "proportion=0.5, degree=7, lambda=0.005, Training RMSE=0.240, Testing RMSE=0.316\n",
      "proportion=0.5, degree=7, lambda=0.006, Training RMSE=0.241, Testing RMSE=0.314\n",
      "proportion=0.5, degree=7, lambda=0.007, Training RMSE=0.243, Testing RMSE=0.312\n",
      "proportion=0.5, degree=7, lambda=0.008, Training RMSE=0.244, Testing RMSE=0.310\n",
      "proportion=0.5, degree=7, lambda=0.008, Training RMSE=0.245, Testing RMSE=0.308\n",
      "proportion=0.5, degree=7, lambda=0.010, Training RMSE=0.247, Testing RMSE=0.306\n",
      "proportion=0.5, degree=7, lambda=0.011, Training RMSE=0.248, Testing RMSE=0.304\n",
      "proportion=0.5, degree=7, lambda=0.012, Training RMSE=0.250, Testing RMSE=0.302\n",
      "proportion=0.5, degree=7, lambda=0.014, Training RMSE=0.252, Testing RMSE=0.300\n",
      "proportion=0.5, degree=7, lambda=0.015, Training RMSE=0.254, Testing RMSE=0.299\n",
      "proportion=0.5, degree=7, lambda=0.017, Training RMSE=0.256, Testing RMSE=0.298\n",
      "proportion=0.5, degree=7, lambda=0.019, Training RMSE=0.258, Testing RMSE=0.297\n",
      "proportion=0.5, degree=7, lambda=0.022, Training RMSE=0.260, Testing RMSE=0.296\n",
      "proportion=0.5, degree=7, lambda=0.024, Training RMSE=0.262, Testing RMSE=0.296\n",
      "proportion=0.5, degree=7, lambda=0.027, Training RMSE=0.265, Testing RMSE=0.297\n",
      "proportion=0.5, degree=7, lambda=0.031, Training RMSE=0.268, Testing RMSE=0.297\n",
      "proportion=0.5, degree=7, lambda=0.034, Training RMSE=0.270, Testing RMSE=0.298\n",
      "proportion=0.5, degree=7, lambda=0.039, Training RMSE=0.273, Testing RMSE=0.300\n",
      "proportion=0.5, degree=7, lambda=0.043, Training RMSE=0.276, Testing RMSE=0.302\n",
      "proportion=0.5, degree=7, lambda=0.049, Training RMSE=0.280, Testing RMSE=0.305\n",
      "proportion=0.5, degree=7, lambda=0.055, Training RMSE=0.283, Testing RMSE=0.309\n",
      "proportion=0.5, degree=7, lambda=0.061, Training RMSE=0.286, Testing RMSE=0.312\n",
      "proportion=0.5, degree=7, lambda=0.069, Training RMSE=0.289, Testing RMSE=0.317\n",
      "proportion=0.5, degree=7, lambda=0.077, Training RMSE=0.293, Testing RMSE=0.322\n",
      "proportion=0.5, degree=7, lambda=0.087, Training RMSE=0.296, Testing RMSE=0.327\n",
      "proportion=0.5, degree=7, lambda=0.098, Training RMSE=0.300, Testing RMSE=0.333\n",
      "proportion=0.5, degree=7, lambda=0.110, Training RMSE=0.303, Testing RMSE=0.339\n",
      "proportion=0.5, degree=7, lambda=0.123, Training RMSE=0.306, Testing RMSE=0.345\n",
      "proportion=0.5, degree=7, lambda=0.138, Training RMSE=0.310, Testing RMSE=0.352\n",
      "proportion=0.5, degree=7, lambda=0.156, Training RMSE=0.313, Testing RMSE=0.358\n",
      "proportion=0.5, degree=7, lambda=0.175, Training RMSE=0.316, Testing RMSE=0.365\n",
      "proportion=0.5, degree=7, lambda=0.196, Training RMSE=0.319, Testing RMSE=0.372\n",
      "proportion=0.5, degree=7, lambda=0.221, Training RMSE=0.322, Testing RMSE=0.379\n",
      "proportion=0.5, degree=7, lambda=0.248, Training RMSE=0.325, Testing RMSE=0.386\n",
      "proportion=0.5, degree=7, lambda=0.278, Training RMSE=0.328, Testing RMSE=0.392\n",
      "proportion=0.5, degree=7, lambda=0.313, Training RMSE=0.330, Testing RMSE=0.399\n",
      "proportion=0.5, degree=7, lambda=0.351, Training RMSE=0.333, Testing RMSE=0.405\n",
      "proportion=0.5, degree=7, lambda=0.394, Training RMSE=0.335, Testing RMSE=0.411\n",
      "proportion=0.5, degree=7, lambda=0.443, Training RMSE=0.338, Testing RMSE=0.417\n",
      "proportion=0.5, degree=7, lambda=0.498, Training RMSE=0.340, Testing RMSE=0.423\n",
      "proportion=0.5, degree=7, lambda=0.559, Training RMSE=0.342, Testing RMSE=0.428\n",
      "proportion=0.5, degree=7, lambda=0.628, Training RMSE=0.344, Testing RMSE=0.434\n",
      "proportion=0.5, degree=7, lambda=0.705, Training RMSE=0.346, Testing RMSE=0.439\n",
      "proportion=0.5, degree=7, lambda=0.792, Training RMSE=0.348, Testing RMSE=0.443\n",
      "proportion=0.5, degree=7, lambda=0.890, Training RMSE=0.350, Testing RMSE=0.448\n",
      "proportion=0.5, degree=7, lambda=1.000, Training RMSE=0.352, Testing RMSE=0.453\n",
      "lambda min: 0.0242012826479\n"
     ]
    },
    {
     "data": {
      "image/png": "[encoded data removed]",
      "text/plain": [
       "<matplotlib.figure.Figure at 0x7f6b5504f898>"
      ]
     },
     "metadata": {},
     "output_type": "display_data"
    }
   ],
   "source": [
    "seed = 56\n",
    "degree = 7\n",
    "split_ratio = 0.5\n",
    "ridge_regression_demo(x, y, degree, split_ratio, seed)"
   ]
  },
  {
   "cell_type": "code",
   "execution_count": null,
   "metadata": {
    "collapsed": true
   },
   "outputs": [],
   "source": []
  }
 ],
 "metadata": {
  "anaconda-cloud": {},
  "kernelspec": {
   "display_name": "Python 3",
   "language": "python",
   "name": "python3"
  },
  "language_info": {
   "codemirror_mode": {
    "name": "ipython",
    "version": 3
   },
   "file_extension": ".py",
   "mimetype": "text/x-python",
   "name": "python",
   "nbconvert_exporter": "python",
   "pygments_lexer": "ipython3",
   "version": "3.6.2"
  }
 },
 "nbformat": 4,
 "nbformat_minor": 1
}
